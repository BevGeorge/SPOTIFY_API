{
 "cells": [
  {
   "cell_type": "markdown",
   "metadata": {},
   "source": [
    "# Boilerplate code"
   ]
  },
  {
   "cell_type": "code",
   "execution_count": 2,
   "metadata": {},
   "outputs": [],
   "source": [
    "# Boilerplate codes. \n",
    "import os\n",
    "import sys\n",
    "import spotipy\n",
    "import spotipy.util as util\n",
    "import json\n",
    "\n",
    "Spotify = spotipy.Spotify\n",
    "\n",
    "## spotify account details\n",
    "# os.environ['SPOTIPY_CLIENT_ID'] = 'your-spotify-client-id'\n",
    "# os.environ['SPOTIPY_CLIENT_SECRET'] = 'your-spotify-client-secret'\n",
    "# os.environ['SPOTIPY_REDIRECT_URI'] = 'your-app-redirect-url'\n",
    "\n",
    "base_url = 'https://api.spotify.com'\n",
    "scope = 'playlist-read-private'\n",
    "# spotify:playlist:\n",
    "token = util.prompt_for_user_token('vmdqlsl05lswg2mhyy1c9bece',scope=scope)\n",
    "spotify_object = Spotify(auth=token)\n",
    "\n"
   ]
  },
  {
   "cell_type": "markdown",
   "metadata": {},
   "source": [
    "# Creating database functions"
   ]
  },
  {
   "cell_type": "code",
   "execution_count": 3,
   "metadata": {},
   "outputs": [],
   "source": [
    "# Creating DataBase functions\n",
    "import sqlite3\n",
    "from sqlite3 import Error\n",
    "\n",
    "## write some functions to create batabase table and insert values\n",
    "def create_connection(db_file):\n",
    "    \"\"\" create a database connection to the SQLite database\n",
    "        specified by db_file\n",
    "    :param db_file: database file\n",
    "    :return: Connection object or None\n",
    "    \"\"\"\n",
    "    conn = None\n",
    "    try:\n",
    "        conn = sqlite3.connect(db_file)\n",
    "        return conn\n",
    "    except Error as e:\n",
    "        print(e)\n",
    " \n",
    "    return conn\n",
    "## Creating table function\n",
    "def create_table(conn, create_table_sql):\n",
    "    \"\"\" create a table from the create_table_sql statement\n",
    "    :param conn: Connection object\n",
    "    :param create_table_sql: a CREATE TABLE statement\n",
    "    :return:\n",
    "    \"\"\"\n",
    "    try:\n",
    "        c = conn.cursor()\n",
    "        c.execute(create_table_sql)\n",
    "    except Error as e:\n",
    "        pass\n",
    "\n",
    "## function to insert values        \n",
    "def insert_values(conn, sql_statement, values):\n",
    "    \"\"\" create a table from the create_table_sql statement\n",
    "    :param conn: Connection object\n",
    "    :param create_table_sql: a CREATE TABLE statement\n",
    "    :return:\n",
    "    \"\"\"\n",
    "    try:\n",
    "        c = conn.cursor()\n",
    "        c.execute(sql_statement, values)\n",
    "    except Error as e:\n",
    "        pass"
   ]
  },
  {
   "cell_type": "code",
   "execution_count": 4,
   "metadata": {},
   "outputs": [],
   "source": [
    "def getting_playlist_data_to_database(playlist_id, playlist_owner, db, sql_table_statement, sql_value_statement):\n",
    "    \n",
    "    ## Getting a bit cleaned up. \n",
    "    results = spotify_object.user_playlist(playlist_owner, playlist_id)\n",
    "    results = results['tracks']['items']\n",
    "    \n",
    "    ## initializing some lists.\n",
    "    track_name = []\n",
    "    track_popularity = []\n",
    "    duration_ms = []\n",
    "    artist_name = []\n",
    "    track_id = []\n",
    "    album_name = []\n",
    "    release_date = []\n",
    "    \n",
    "    ## just going through the spotify object and retriving data. \n",
    "    for result in results:\n",
    "        track_name.append(result['track']['name'])\n",
    "        duration_ms.append(result['track']['duration_ms'])\n",
    "        track_popularity.append(result['track']['popularity'])\n",
    "        artist_name.append(result['track']['artists'][0]['name'])\n",
    "        track_id.append(result['track']['id'])\n",
    "        album_name.append(result['track']['album']['name'])\n",
    "        release_date.append(result['track']['album']['release_date'])\n",
    "        \n",
    "    ## creating a connection with database\n",
    "    conn = create_connection(db)\n",
    "    create_table(conn, sql_table_statement)\n",
    "    \n",
    "    ## looping through all the lists and inserting values. \n",
    "    for i, n, p, d, at, alb, dt in zip(track_id, \n",
    "                                   track_name, \n",
    "                                   track_popularity, \n",
    "                                   duration_ms, \n",
    "                                   artist_name, \n",
    "                                   album_name, \n",
    "                                   release_date):\n",
    "        values = (i, n, p, d, at, alb, dt)\n",
    "        insert_values(conn, sql_value_statement, values)\n",
    "        conn.commit()\n",
    "\n"
   ]
  },
  {
   "cell_type": "markdown",
   "metadata": {},
   "source": [
    "# Table#1(tracks)"
   ]
  },
  {
   "cell_type": "code",
   "execution_count": 5,
   "metadata": {},
   "outputs": [],
   "source": [
    "results = spotify_object.search(\"Rap Caviar\", limit = 1, type='playlist')"
   ]
  },
  {
   "cell_type": "code",
   "execution_count": 6,
   "metadata": {},
   "outputs": [],
   "source": [
    "# used this to have print readable spotify_object\n",
    "# print (json.dumps(artist, sort_keys=True, indent=4))"
   ]
  },
  {
   "cell_type": "code",
   "execution_count": 7,
   "metadata": {},
   "outputs": [],
   "source": [
    "playlist_id =  results['playlists']['items'][0]['id']\n",
    "playlist_owner = results['playlists']['items'][0]['owner']['id']"
   ]
  },
  {
   "cell_type": "code",
   "execution_count": 8,
   "metadata": {},
   "outputs": [],
   "source": [
    "sqlite_db = '360i_db.sqlite'\n",
    "\n",
    "## Getting playlist id and owner name of the playlist(spotify)\n",
    "playlist_id =  results['playlists']['items'][0]['id']\n",
    "playlist_owner = results['playlists']['items'][0]['owner']['id']\n",
    "\n",
    "## sql_command for creating table. \n",
    "sql_table = 'CREATE TABLE IF NOT EXISTS tracks(track_id CHAR(20) PRIMARY KEY, name TEXT, popularity INTEGER, duration_ms INTEGER, artist_name TEXT, album TEXT, release_date TEXT);'\n",
    "\n",
    "## sql command for inserting values\n",
    "value_statement = 'INSERT INTO tracks VALUES (?,?,?,?,?,?,?)'"
   ]
  },
  {
   "cell_type": "code",
   "execution_count": 9,
   "metadata": {},
   "outputs": [],
   "source": [
    "## this function creates database and inserts values. \n",
    "getting_playlist_data_to_database(playlist_id, playlist_owner, sqlite_db,sql_table, value_statement)"
   ]
  },
  {
   "cell_type": "markdown",
   "metadata": {},
   "source": [
    "## Table#2 (Artists)"
   ]
  },
  {
   "cell_type": "code",
   "execution_count": 10,
   "metadata": {},
   "outputs": [],
   "source": [
    "results = spotify_object.user_playlist(playlist_owner, playlist_id)\n",
    "results = results['tracks']['items']"
   ]
  },
  {
   "cell_type": "code",
   "execution_count": 11,
   "metadata": {},
   "outputs": [],
   "source": [
    "## Initializing a dict to store unique artist id and name. This is to avoid duplicates.  \n",
    "artist_dict = {}\n",
    "for result in results:\n",
    "    for item in result['track']['artists']:\n",
    "        if item['id'] in artist_dict:\n",
    "            continue\n",
    "        else:\n",
    "            artist_dict[item['id']] = item['name']\n",
    "\n",
    "## using the created dict above to get popularity and followers column. \n",
    "for key,value in artist_dict.items():\n",
    "    artist_dict[key] = (value, spotify_object.artist(key)['popularity'], spotify_object.artist(key)['followers']['total'])\n"
   ]
  },
  {
   "cell_type": "code",
   "execution_count": 12,
   "metadata": {},
   "outputs": [],
   "source": [
    "## Creating 'artists' table\n",
    "conn = sqlite3.connect(sqlite_db)\n",
    "sql_statement = 'CREATE TABLE IF NOT EXISTS artists(artist_id CHAR(22) PRIMARY KEY, name TEXT, popularity INTEGER, followers INTEGER);'\n",
    "create_table(conn, sql_statement)"
   ]
  },
  {
   "cell_type": "code",
   "execution_count": 13,
   "metadata": {},
   "outputs": [],
   "source": [
    "## Inserting values. \n",
    "for key, value in artist_dict.items():\n",
    "    values = (key, value[0], value[1], value[2])\n",
    "    insert_values(conn, 'INSERT INTO artists VALUES (?,?,?,?)', values)\n",
    "    conn.commit()"
   ]
  },
  {
   "cell_type": "markdown",
   "metadata": {},
   "source": [
    "## Analysis"
   ]
  },
  {
   "cell_type": "code",
   "execution_count": 14,
   "metadata": {},
   "outputs": [
    {
     "data": {
      "text/html": [
       "<div>\n",
       "<style scoped>\n",
       "    .dataframe tbody tr th:only-of-type {\n",
       "        vertical-align: middle;\n",
       "    }\n",
       "\n",
       "    .dataframe tbody tr th {\n",
       "        vertical-align: top;\n",
       "    }\n",
       "\n",
       "    .dataframe thead th {\n",
       "        text-align: right;\n",
       "    }\n",
       "</style>\n",
       "<table border=\"1\" class=\"dataframe\">\n",
       "  <thead>\n",
       "    <tr style=\"text-align: right;\">\n",
       "      <th></th>\n",
       "      <th>COUNT(*)</th>\n",
       "    </tr>\n",
       "  </thead>\n",
       "  <tbody>\n",
       "    <tr>\n",
       "      <td>0</td>\n",
       "      <td>67</td>\n",
       "    </tr>\n",
       "  </tbody>\n",
       "</table>\n",
       "</div>"
      ],
      "text/plain": [
       "   COUNT(*)\n",
       "0        67"
      ]
     },
     "execution_count": 14,
     "metadata": {},
     "output_type": "execute_result"
    }
   ],
   "source": [
    "import pandas as pd\n",
    "from pandas.io import sql\n",
    "\n",
    "## Writing a little function to make our life a bit easier. \n",
    "def Q(input_string, db = conn):\n",
    "#     return sql.read_sql(input_string, db)\n",
    "    return pd.read_sql(input_string, db)\n",
    "\n",
    "\n",
    "## How many songs are there in the tracks table. \n",
    "Q('SELECT COUNT(*) FROM tracks')"
   ]
  },
  {
   "cell_type": "code",
   "execution_count": 15,
   "metadata": {},
   "outputs": [
    {
     "data": {
      "text/html": [
       "<div>\n",
       "<style scoped>\n",
       "    .dataframe tbody tr th:only-of-type {\n",
       "        vertical-align: middle;\n",
       "    }\n",
       "\n",
       "    .dataframe tbody tr th {\n",
       "        vertical-align: top;\n",
       "    }\n",
       "\n",
       "    .dataframe thead th {\n",
       "        text-align: right;\n",
       "    }\n",
       "</style>\n",
       "<table border=\"1\" class=\"dataframe\">\n",
       "  <thead>\n",
       "    <tr style=\"text-align: right;\">\n",
       "      <th></th>\n",
       "      <th>name</th>\n",
       "    </tr>\n",
       "  </thead>\n",
       "  <tbody>\n",
       "    <tr>\n",
       "      <td>0</td>\n",
       "      <td>Behind Barz - Bonus</td>\n",
       "    </tr>\n",
       "    <tr>\n",
       "      <td>1</td>\n",
       "      <td>Money In The Grave (Drake ft. Rick Ross)</td>\n",
       "    </tr>\n",
       "    <tr>\n",
       "      <td>2</td>\n",
       "      <td>Enemies (feat. DaBaby)</td>\n",
       "    </tr>\n",
       "    <tr>\n",
       "      <td>3</td>\n",
       "      <td>On The Road (feat. Meek Mill &amp; Lil Baby)</td>\n",
       "    </tr>\n",
       "    <tr>\n",
       "      <td>4</td>\n",
       "      <td>Saint-Tropez</td>\n",
       "    </tr>\n",
       "  </tbody>\n",
       "</table>\n",
       "</div>"
      ],
      "text/plain": [
       "                                       name\n",
       "0                       Behind Barz - Bonus\n",
       "1  Money In The Grave (Drake ft. Rick Ross)\n",
       "2                    Enemies (feat. DaBaby)\n",
       "3  On The Road (feat. Meek Mill & Lil Baby)\n",
       "4                              Saint-Tropez"
      ]
     },
     "execution_count": 15,
     "metadata": {},
     "output_type": "execute_result"
    }
   ],
   "source": [
    "## What are the top 5 tracks by artist follower count?\n",
    "Q(\"\"\"SELECT tracks.\"name\" \n",
    "FROM tracks \n",
    "JOIN artists\n",
    "ON tracks.\"artist_name\" = artists.\"name\"\n",
    "ORDER BY artists.\"followers\" DESC\n",
    "LIMIT 5\n",
    "\"\"\")"
   ]
  },
  {
   "cell_type": "code",
   "execution_count": 16,
   "metadata": {},
   "outputs": [
    {
     "data": {
      "text/html": [
       "<div>\n",
       "<style scoped>\n",
       "    .dataframe tbody tr th:only-of-type {\n",
       "        vertical-align: middle;\n",
       "    }\n",
       "\n",
       "    .dataframe tbody tr th {\n",
       "        vertical-align: top;\n",
       "    }\n",
       "\n",
       "    .dataframe thead th {\n",
       "        text-align: right;\n",
       "    }\n",
       "</style>\n",
       "<table border=\"1\" class=\"dataframe\">\n",
       "  <thead>\n",
       "    <tr style=\"text-align: right;\">\n",
       "      <th></th>\n",
       "      <th>name</th>\n",
       "      <th>name</th>\n",
       "      <th>followers</th>\n",
       "    </tr>\n",
       "  </thead>\n",
       "  <tbody>\n",
       "    <tr>\n",
       "      <td>0</td>\n",
       "      <td>Behind Barz - Bonus</td>\n",
       "      <td>Drake</td>\n",
       "      <td>40526845</td>\n",
       "    </tr>\n",
       "    <tr>\n",
       "      <td>1</td>\n",
       "      <td>Money In The Grave (Drake ft. Rick Ross)</td>\n",
       "      <td>Drake</td>\n",
       "      <td>40526845</td>\n",
       "    </tr>\n",
       "    <tr>\n",
       "      <td>2</td>\n",
       "      <td>Enemies (feat. DaBaby)</td>\n",
       "      <td>Post Malone</td>\n",
       "      <td>17542578</td>\n",
       "    </tr>\n",
       "    <tr>\n",
       "      <td>3</td>\n",
       "      <td>On The Road (feat. Meek Mill &amp; Lil Baby)</td>\n",
       "      <td>Post Malone</td>\n",
       "      <td>17542578</td>\n",
       "    </tr>\n",
       "    <tr>\n",
       "      <td>4</td>\n",
       "      <td>Saint-Tropez</td>\n",
       "      <td>Post Malone</td>\n",
       "      <td>17542578</td>\n",
       "    </tr>\n",
       "  </tbody>\n",
       "</table>\n",
       "</div>"
      ],
      "text/plain": [
       "                                       name         name  followers\n",
       "0                       Behind Barz - Bonus        Drake   40526845\n",
       "1  Money In The Grave (Drake ft. Rick Ross)        Drake   40526845\n",
       "2                    Enemies (feat. DaBaby)  Post Malone   17542578\n",
       "3  On The Road (feat. Meek Mill & Lil Baby)  Post Malone   17542578\n",
       "4                              Saint-Tropez  Post Malone   17542578"
      ]
     },
     "execution_count": 16,
     "metadata": {},
     "output_type": "execute_result"
    }
   ],
   "source": [
    "## What are the top 5 tracks by artist follower count?\n",
    "Q(\"\"\"SELECT tracks.\"name\", artists.\"name\", artists.\"followers\" \n",
    "FROM tracks \n",
    "JOIN artists\n",
    "ON tracks.\"artist_name\" = artists.\"name\"\n",
    "ORDER BY artists.\"followers\" DESC\n",
    "LIMIT 5\n",
    "\"\"\")"
   ]
  },
  {
   "cell_type": "code",
   "execution_count": 17,
   "metadata": {},
   "outputs": [
    {
     "data": {
      "text/html": [
       "<div>\n",
       "<style scoped>\n",
       "    .dataframe tbody tr th:only-of-type {\n",
       "        vertical-align: middle;\n",
       "    }\n",
       "\n",
       "    .dataframe tbody tr th {\n",
       "        vertical-align: top;\n",
       "    }\n",
       "\n",
       "    .dataframe thead th {\n",
       "        text-align: right;\n",
       "    }\n",
       "</style>\n",
       "<table border=\"1\" class=\"dataframe\">\n",
       "  <thead>\n",
       "    <tr style=\"text-align: right;\">\n",
       "      <th></th>\n",
       "      <th>name</th>\n",
       "      <th>MAX(duration_ms)</th>\n",
       "    </tr>\n",
       "  </thead>\n",
       "  <tbody>\n",
       "    <tr>\n",
       "      <td>0</td>\n",
       "      <td>No Cap (feat. Rich The Kid)</td>\n",
       "      <td>260855</td>\n",
       "    </tr>\n",
       "  </tbody>\n",
       "</table>\n",
       "</div>"
      ],
      "text/plain": [
       "                          name  MAX(duration_ms)\n",
       "0  No Cap (feat. Rich The Kid)            260855"
      ]
     },
     "execution_count": 17,
     "metadata": {},
     "output_type": "execute_result"
    }
   ],
   "source": [
    "## Which song is the longest?\n",
    "Q(\"\"\"SELECT name, MAX(duration_ms) FROM tracks\n",
    "\"\"\")"
   ]
  },
  {
   "cell_type": "code",
   "execution_count": 18,
   "metadata": {},
   "outputs": [],
   "source": [
    "## What is the relationship between track and artist popularity?\n",
    "## Let's do a little analysis, \n",
    "df = Q(\"\"\"SELECT tracks.\"popularity\" as 'tracks_popularity', \n",
    "tracks.\"duration_ms\", \n",
    "tracks.\"artist_name\", \n",
    "artists.\"popularity\" as 'artist_popularity',\n",
    "artists.\"followers\"\n",
    "FROM tracks\n",
    "JOIN artists\n",
    "ON tracks.\"artist_name\"= artists.\"name\"\n",
    "\"\"\")"
   ]
  },
  {
   "cell_type": "code",
   "execution_count": 19,
   "metadata": {},
   "outputs": [
    {
     "data": {
      "text/html": [
       "<div>\n",
       "<style scoped>\n",
       "    .dataframe tbody tr th:only-of-type {\n",
       "        vertical-align: middle;\n",
       "    }\n",
       "\n",
       "    .dataframe tbody tr th {\n",
       "        vertical-align: top;\n",
       "    }\n",
       "\n",
       "    .dataframe thead th {\n",
       "        text-align: right;\n",
       "    }\n",
       "</style>\n",
       "<table border=\"1\" class=\"dataframe\">\n",
       "  <thead>\n",
       "    <tr style=\"text-align: right;\">\n",
       "      <th></th>\n",
       "      <th>tracks_popularity</th>\n",
       "      <th>duration_ms</th>\n",
       "      <th>artist_name</th>\n",
       "      <th>artist_popularity</th>\n",
       "      <th>followers</th>\n",
       "    </tr>\n",
       "  </thead>\n",
       "  <tbody>\n",
       "    <tr>\n",
       "      <td>0</td>\n",
       "      <td>74</td>\n",
       "      <td>151040</td>\n",
       "      <td>Lil Nas X</td>\n",
       "      <td>88</td>\n",
       "      <td>1161728</td>\n",
       "    </tr>\n",
       "    <tr>\n",
       "      <td>1</td>\n",
       "      <td>72</td>\n",
       "      <td>163120</td>\n",
       "      <td>Drake</td>\n",
       "      <td>97</td>\n",
       "      <td>40526845</td>\n",
       "    </tr>\n",
       "    <tr>\n",
       "      <td>2</td>\n",
       "      <td>85</td>\n",
       "      <td>193026</td>\n",
       "      <td>Young Thug</td>\n",
       "      <td>93</td>\n",
       "      <td>4378724</td>\n",
       "    </tr>\n",
       "    <tr>\n",
       "      <td>3</td>\n",
       "      <td>85</td>\n",
       "      <td>142417</td>\n",
       "      <td>Quality Control</td>\n",
       "      <td>82</td>\n",
       "      <td>399764</td>\n",
       "    </tr>\n",
       "    <tr>\n",
       "      <td>4</td>\n",
       "      <td>83</td>\n",
       "      <td>176640</td>\n",
       "      <td>YNW Melly</td>\n",
       "      <td>82</td>\n",
       "      <td>1429516</td>\n",
       "    </tr>\n",
       "  </tbody>\n",
       "</table>\n",
       "</div>"
      ],
      "text/plain": [
       "   tracks_popularity  duration_ms      artist_name  artist_popularity  \\\n",
       "0                 74       151040        Lil Nas X                 88   \n",
       "1                 72       163120            Drake                 97   \n",
       "2                 85       193026       Young Thug                 93   \n",
       "3                 85       142417  Quality Control                 82   \n",
       "4                 83       176640        YNW Melly                 82   \n",
       "\n",
       "   followers  \n",
       "0    1161728  \n",
       "1   40526845  \n",
       "2    4378724  \n",
       "3     399764  \n",
       "4    1429516  "
      ]
     },
     "execution_count": 19,
     "metadata": {},
     "output_type": "execute_result"
    }
   ],
   "source": [
    "df.head()"
   ]
  },
  {
   "cell_type": "code",
   "execution_count": 20,
   "metadata": {},
   "outputs": [],
   "source": [
    "import matplotlib.pyplot as plt\n",
    "import seaborn as sns\n",
    "plt.subplots(figsize = (15,12))\n",
    "sns.scatterplot(x = 'tracks_popularity', y = 'artist_popularity',size = 'followers', data = df);"
   ]
  },
  {
   "cell_type": "markdown",
   "metadata": {},
   "source": [
    "As you can see there is a positive correlation between tracks and artists popularity. It seems as if popular artists tend to produce popular tracks. However, sometimes things  as you can see the top left data point"
   ]
  },
  {
   "cell_type": "markdown",
   "metadata": {},
   "source": [
    "# Bonus Analysis"
   ]
  },
  {
   "cell_type": "code",
   "execution_count": 21,
   "metadata": {},
   "outputs": [
    {
     "data": {
      "image/png": "[encoded data removed]",
      "text/plain": [
       "<Figure size 720x720 with 20 Axes>"
      ]
     },
     "metadata": {
      "needs_background": "light"
     },
     "output_type": "display_data"
    }
   ],
   "source": [
    "sns.pairplot(df);"
   ]
  },
  {
   "cell_type": "markdown",
   "metadata": {},
   "source": [
    "It looks like there are a couple of datapoint in the followers column, that are outliers. If we get rid off those couple of points we might be able to get a better look at the data. Let's find out those artist with top followers. "
   ]
  },
  {
   "cell_type": "code",
   "execution_count": 22,
   "metadata": {},
   "outputs": [
    {
     "data": {
      "text/html": [
       "<div>\n",
       "<style scoped>\n",
       "    .dataframe tbody tr th:only-of-type {\n",
       "        vertical-align: middle;\n",
       "    }\n",
       "\n",
       "    .dataframe tbody tr th {\n",
       "        vertical-align: top;\n",
       "    }\n",
       "\n",
       "    .dataframe thead th {\n",
       "        text-align: right;\n",
       "    }\n",
       "</style>\n",
       "<table border=\"1\" class=\"dataframe\">\n",
       "  <thead>\n",
       "    <tr style=\"text-align: right;\">\n",
       "      <th></th>\n",
       "      <th>tracks_popularity</th>\n",
       "      <th>duration_ms</th>\n",
       "      <th>artist_name</th>\n",
       "      <th>artist_popularity</th>\n",
       "      <th>followers</th>\n",
       "    </tr>\n",
       "  </thead>\n",
       "  <tbody>\n",
       "    <tr>\n",
       "      <td>8</td>\n",
       "      <td>92</td>\n",
       "      <td>205426</td>\n",
       "      <td>Drake</td>\n",
       "      <td>97</td>\n",
       "      <td>40526845</td>\n",
       "    </tr>\n",
       "    <tr>\n",
       "      <td>1</td>\n",
       "      <td>72</td>\n",
       "      <td>163120</td>\n",
       "      <td>Drake</td>\n",
       "      <td>97</td>\n",
       "      <td>40526845</td>\n",
       "    </tr>\n",
       "    <tr>\n",
       "      <td>15</td>\n",
       "      <td>87</td>\n",
       "      <td>218320</td>\n",
       "      <td>Post Malone</td>\n",
       "      <td>100</td>\n",
       "      <td>17542578</td>\n",
       "    </tr>\n",
       "    <tr>\n",
       "      <td>29</td>\n",
       "      <td>91</td>\n",
       "      <td>150866</td>\n",
       "      <td>Post Malone</td>\n",
       "      <td>100</td>\n",
       "      <td>17542578</td>\n",
       "    </tr>\n",
       "    <tr>\n",
       "      <td>5</td>\n",
       "      <td>89</td>\n",
       "      <td>196760</td>\n",
       "      <td>Post Malone</td>\n",
       "      <td>100</td>\n",
       "      <td>17542578</td>\n",
       "    </tr>\n",
       "    <tr>\n",
       "      <td>21</td>\n",
       "      <td>89</td>\n",
       "      <td>260640</td>\n",
       "      <td>Chris Brown</td>\n",
       "      <td>91</td>\n",
       "      <td>9451625</td>\n",
       "    </tr>\n",
       "    <tr>\n",
       "      <td>38</td>\n",
       "      <td>76</td>\n",
       "      <td>209120</td>\n",
       "      <td>Future</td>\n",
       "      <td>88</td>\n",
       "      <td>8019644</td>\n",
       "    </tr>\n",
       "    <tr>\n",
       "      <td>31</td>\n",
       "      <td>80</td>\n",
       "      <td>151066</td>\n",
       "      <td>Big Sean</td>\n",
       "      <td>84</td>\n",
       "      <td>6539231</td>\n",
       "    </tr>\n",
       "  </tbody>\n",
       "</table>\n",
       "</div>"
      ],
      "text/plain": [
       "    tracks_popularity  duration_ms  artist_name  artist_popularity  followers\n",
       "8                  92       205426        Drake                 97   40526845\n",
       "1                  72       163120        Drake                 97   40526845\n",
       "15                 87       218320  Post Malone                100   17542578\n",
       "29                 91       150866  Post Malone                100   17542578\n",
       "5                  89       196760  Post Malone                100   17542578\n",
       "21                 89       260640  Chris Brown                 91    9451625\n",
       "38                 76       209120       Future                 88    8019644\n",
       "31                 80       151066     Big Sean                 84    6539231"
      ]
     },
     "execution_count": 22,
     "metadata": {},
     "output_type": "execute_result"
    }
   ],
   "source": [
    "df.sort_values(by = 'followers', ascending = False).head(8)"
   ]
  },
  {
   "cell_type": "markdown",
   "metadata": {},
   "source": [
    "So, Drake and Post Malone are so far above and away from others that interms of followers that we may be better off leaving them out of the dataset. "
   ]
  },
  {
   "cell_type": "code",
   "execution_count": 23,
   "metadata": {},
   "outputs": [
    {
     "data": {
      "image/png": "[encoded data removed]",
      "text/plain": [
       "<Figure size 720x720 with 20 Axes>"
      ]
     },
     "metadata": {
      "needs_background": "light"
     },
     "output_type": "display_data"
    }
   ],
   "source": [
    "df_followers = df[df.followers <17356258]\n",
    "\n",
    "sns.pairplot(df_followers);"
   ]
  },
  {
   "cell_type": "markdown",
   "metadata": {},
   "source": [
    "Well, If we look at the top right plot,we see that there are a cluster of datapoints where tracks_popularity is fairly high eventhough there isn't enough followers. However, the relationship between artist_popularity and tracks_popularity is quite significant as we have discussed earlier. May be if we have more data we can reveal something more significant."
   ]
  },
  {
   "cell_type": "markdown",
   "metadata": {},
   "source": [
    "# Bonus Data"
   ]
  },
  {
   "cell_type": "code",
   "execution_count": 24,
   "metadata": {},
   "outputs": [],
   "source": [
    "# results = spotify_object.search(\"biggest playlist ever.\", limit = 10, type='playlist')\n",
    "# results['playlists']['items']"
   ]
  },
  {
   "cell_type": "code",
   "execution_count": 25,
   "metadata": {},
   "outputs": [],
   "source": [
    "sqlite_db = '360i_db.sqlite'\n",
    "## Getting playlist id and owner name of the playlist(spotify)\n",
    "playlist_owner = 'maxmoroz07'\n",
    "playlist_id = '7htu5ftbLBRFAwiuHVcUAg'\n",
    "\n",
    "## sql_command for creating table. \n",
    "sql_table = 'CREATE TABLE IF NOT EXISTS tracks_100(track_id CHAR(20) PRIMARY KEY, name TEXT, popularity INTEGER, duration_ms INTEGER, artist_name TEXT, album TEXT, release_date TEXT);'\n",
    "\n",
    "## sql command for inserting values\n",
    "value_statement = 'INSERT INTO tracks_100 VALUES (?,?,?,?,?,?,?)'"
   ]
  },
  {
   "cell_type": "code",
   "execution_count": 26,
   "metadata": {},
   "outputs": [],
   "source": [
    "## this function creates database and inserts values. \n",
    "getting_playlist_data_to_database(playlist_id, playlist_owner, sqlite_db,sql_table, value_statement)"
   ]
  },
  {
   "cell_type": "markdown",
   "metadata": {},
   "source": [
    "# Resources used\n",
    "#### https://www.sqlitetutorial.net/sqlite-python/create-tables/ \n",
    " "
   ]
  }
 ],
 "metadata": {
  "kernelspec": {
   "display_name": "Python 3",
   "language": "python",
   "name": "python3"
  },
  "language_info": {
   "codemirror_mode": {
    "name": "ipython",
    "version": 3
   },
   "file_extension": ".py",
   "mimetype": "text/x-python",
   "name": "python",
   "nbconvert_exporter": "python",
   "pygments_lexer": "ipython3",
   "version": "3.7.3"
  }
 },
 "nbformat": 4,
 "nbformat_minor": 2
}
